{
 "cells": [
  {
   "cell_type": "code",
   "execution_count": 1,
   "id": "69cc4794",
   "metadata": {},
   "outputs": [],
   "source": [
    "import cv2                     #opencv library import as cv2\n",
    "import numpy as np             # numpy library for numerical calculation    \n",
    "from os import listdir         #os listdir() method in python is used to get the list of all files and directories in the specified directory. \n",
    "from os.path import isfile,join #The os.path.isfile() method returns True if the specified path is an existing regular file. Otherwise, it returns False."
   ]
  },
  {
   "cell_type": "code",
   "execution_count": 2,
   "id": "24ae47b6",
   "metadata": {},
   "outputs": [],
   "source": [
    "face_classifier=cv2.CascadeClassifier('/home/linus/.local/lib/python3.8/site-packages/cv2/data/haarcascade_frontalface_default.xml')"
   ]
  },
  {
   "cell_type": "code",
   "execution_count": 3,
   "id": "701d98d8",
   "metadata": {},
   "outputs": [
    {
     "name": "stderr",
     "output_type": "stream",
     "text": [
      "<>:5: SyntaxWarning: \"is\" with a literal. Did you mean \"==\"?\n",
      "<>:5: SyntaxWarning: \"is\" with a literal. Did you mean \"==\"?\n",
      "/tmp/ipykernel_5160/850468906.py:5: SyntaxWarning: \"is\" with a literal. Did you mean \"==\"?\n",
      "  if faces is():\n"
     ]
    }
   ],
   "source": [
    "#define function to convert image into gray,give scalefactor like 1.3,minNeighbour factor 5.\n",
    "def face_extractor(img):\n",
    "    gray=cv2.cvtColor(img,cv2.COLOR_BGR2GRAY)\n",
    "    faces=face_classifier.detectMultiScale(gray,1.3,5)\n",
    "    if faces is():\n",
    "        return None\n",
    "    for(x,y,w,h) in faces: \n",
    "        cropped_face=img[y:y+h,x:x+w] #cropped face using x coordinate,y coordinate,height and width of image\n",
    "    return cropped_face"
   ]
  },
  {
   "cell_type": "code",
   "execution_count": 4,
   "id": "245de8ac",
   "metadata": {},
   "outputs": [
    {
     "name": "stdout",
     "output_type": "stream",
     "text": [
      "face not found\n",
      "face not found\n",
      "face not found\n",
      "face not found\n",
      "face not found\n",
      "face not found\n",
      "face not found\n",
      "face not found\n",
      "face not found\n",
      "face not found\n",
      "face not found\n",
      "face not found\n",
      "face not found\n",
      "face not found\n",
      "face not found\n",
      "face not found\n",
      "face not found\n",
      "face not found\n",
      "face not found\n",
      "face not found\n",
      "face not found\n",
      "face not found\n",
      "face not found\n",
      "face not found\n",
      "face not found\n",
      "face not found\n",
      "face not found\n",
      "face not found\n",
      "face not found\n",
      "face not found\n",
      "face not found\n",
      "face not found\n",
      "face not found\n",
      "face not found\n",
      "face not found\n",
      "face not found\n",
      "face not found\n",
      "face not found\n",
      "face not found\n",
      "face not found\n",
      "face not found\n",
      "face not found\n",
      "face not found\n",
      "face not found\n",
      "face not found\n",
      "face not found\n",
      "face not found\n",
      "face not found\n",
      "face not found\n",
      "face not found\n",
      "face not found\n",
      "face not found\n",
      "face not found\n",
      "face not found\n",
      "face not found\n",
      "face not found\n",
      "face not found\n",
      "face not found\n",
      "face not found\n",
      "face not found\n",
      "face not found\n",
      "face not found\n",
      "face not found\n",
      "face not found\n",
      "face not found\n",
      "face not found\n",
      "face not found\n",
      "face not found\n",
      "face not found\n",
      "face not found\n",
      "face not found\n",
      "face not found\n",
      "face not found\n",
      "face not found\n",
      "face not found\n",
      "face not found\n",
      "face not found\n",
      "face not found\n",
      "face not found\n",
      "face not found\n",
      "face not found\n",
      "face not found\n",
      "face not found\n",
      "face not found\n",
      "face not found\n",
      "face not found\n",
      "face not found\n",
      "face not found\n",
      "face not found\n",
      "face not found\n",
      "face not found\n",
      "face not found\n",
      "face not found\n",
      "face not found\n",
      "face not found\n",
      "face not found\n",
      "face not found\n",
      "face not found\n",
      "face not found\n",
      "face not found\n",
      "face not found\n",
      "face not found\n",
      "face not found\n",
      "face not found\n",
      "collecting sample image of Sunil Ghimire completed!!!!!\n"
     ]
    }
   ],
   "source": [
    "cap=cv2.VideoCapture(-1) #open camera to take photo 0 for webcam live video\n",
    "count=0\n",
    "while True:  \n",
    "    ret,frame=cap.read()  #camera read then acess through frame and value hold by ret variable\n",
    "    if face_extractor(frame) is not None:\n",
    "        count+=1\n",
    "        face=cv2.resize(face_extractor(frame),(200,200))\n",
    "        face=cv2.cvtColor(face,cv2.COLOR_BGR2GRAY)\n",
    "        file_name_path=\"images/sunil/sunil\"+str(count)+\".jpg\"  #path or folder name(images) to store image,name of image,in string form,with .jpg form.\n",
    "        cv2.imwrite(file_name_path,face)\n",
    "        cv2.putText(face,str(count),(50,50),cv2.FONT_HERSHEY_SIMPLEX,1,(0,255,0),2)#count,font ,color B=0,G(green)=255 given,R=0, thickness=2\n",
    "        cv2.imshow(\"face cropper\",face)\n",
    "    else:\n",
    "        print(\"face not found\")\n",
    "        pass\n",
    "    if cv2.waitKey(1)==13 or count==100: #100 image or entrer press to stop #13 is askey code.\n",
    "        break                            #When I use cv2.waitKey(1), I get a continuous live video feed from my laptops webcam.\n",
    "cap.release()# This releases the webcam, then closes all of the imshow() windows.\n",
    "cv2.destroyAllWindows()\n",
    "print(\"collecting sample image of Sunil Ghimire completed!!!!!\")"
   ]
  },
  {
   "cell_type": "code",
   "execution_count": 5,
   "id": "50a35347",
   "metadata": {},
   "outputs": [
    {
     "name": "stdout",
     "output_type": "stream",
     "text": [
      "Sunil your model training complete\n"
     ]
    }
   ],
   "source": [
    "data_path=\"images/sunil/\"  #path or folder name(images) of image data then / \n",
    "\n",
    "onlyfiles=[f for f in listdir(data_path) if isfile(join(data_path,f))] #apply for loop,since files of images are strores in list form so use [], pass  data_path in listdir,apply if condition  if file is found then join data_path with f.\n",
    "Training_Data,Labels=[],[]\n",
    "for i, files in enumerate(onlyfiles):    #enumerate provide iteration upto files number\n",
    "    image_path=data_path + onlyfiles[i]\n",
    "    images=cv2.imread(image_path,cv2.IMREAD_GRAYSCALE)\n",
    "    Training_Data.append(np.asarray(images,dtype=np.uint8))#append images in the form of array\n",
    "    Labels.append(i)                                       # append i values in Labels\n",
    "Labels=np.asarray(Labels,dtype=np.int32)                   #call as asarray and pass labels and data type np.int32 bit\n",
    "model=cv2.face.LBPHFaceRecognizer_create()                 #Built a module and call face.LBPHFaceRecognizer \n",
    "model.train(np.asarray(Training_Data),np.asarray(Labels))  #now train module by passing Training_data through np.asarray ad pass Labels through np.asarray.\n",
    "print(\"Sunil your model training complete\")"
   ]
  },
  {
   "cell_type": "code",
   "execution_count": 7,
   "id": "88ef4eb7",
   "metadata": {},
   "outputs": [
    {
     "name": "stderr",
     "output_type": "stream",
     "text": [
      "<>:6: SyntaxWarning: \"is\" with a literal. Did you mean \"==\"?\n",
      "<>:29: SyntaxWarning: 'int' object is not callable; perhaps you missed a comma?\n",
      "<>:6: SyntaxWarning: \"is\" with a literal. Did you mean \"==\"?\n",
      "<>:29: SyntaxWarning: 'int' object is not callable; perhaps you missed a comma?\n",
      "/tmp/ipykernel_5160/15385502.py:6: SyntaxWarning: \"is\" with a literal. Did you mean \"==\"?\n",
      "  if faces is():            #if face is not there then return empty image frame\n",
      "/tmp/ipykernel_5160/15385502.py:29: SyntaxWarning: 'int' object is not callable; perhaps you missed a comma?\n",
      "  cv2.putText(image,\"Face not match\",(250,450),cv2.FONT_HERSHEY_COMPLEX,1(0,0,255),2)\n"
     ]
    }
   ],
   "source": [
    "#Prediction of data after module train\n",
    "\n",
    "def face_detector(img,size=0.5):    #img images come from camera frame\n",
    "    gray=cv2.cvtColor(img,cv2.COLOR_BGR2GRAY)\n",
    "    faces=face_classifier.detectMultiScale(gray,1.3,5)\n",
    "    if faces is():            #if face is not there then return empty image frame\n",
    "        return img,[]\n",
    "    for(x,y,w,h) in faces:     #for loop for roi(reason of interest) image information\n",
    "        cv2.rectangle(img,(x,y),(x+w,y+h),(0,255,255),2) # received faces draw under rectangle\n",
    "        roi=img[y:y+h,x:x+w]                             #roi(reason of interest)\n",
    "        roi=cv2.resize(roi,(200,200))\n",
    "    return img,roi\n",
    "cap=cv2.VideoCapture(-1)     #on camera ,0 for webcam live video\n",
    "while True:\n",
    "    ret,frame= cap.read()\n",
    "    image,face=face_detector(frame)\n",
    "\n",
    "    try:\n",
    "        face=cv2.cvtColor(face,cv2.COLOR_BGR2GRAY)\n",
    "        result=model.predict(face)\n",
    "        if result[1]<500:                               #500 and 300 are just a value,(result[1]/300) is jst deviation from confidence\n",
    "            confidence=int(100*(1-(result[1])/300))     # to calculate % of confidence face match, division give float value ,convert float to int,\n",
    "            display_string=str(confidence)+\"% Hello Sunil Ghimire\"\n",
    "        cv2.putText(image,display_string,(100,120),cv2.FONT_HERSHEY_COMPLEX,1,(250,120,255),2)\n",
    "        if confidence > 80:                             #if confidence is >80 then face match else face not match\n",
    "            cv2.putText(image,\"Face match\",(250,450),cv2.FONT_HERSHEY_COMPLEX,1,(0,255,0),2)\n",
    "            cv2.imshow(\"face cropper\",image)\n",
    "        else:\n",
    "            cv2.putText(image,\"Face not match\",(250,450),cv2.FONT_HERSHEY_COMPLEX,1(0,0,255),2)\n",
    "            cv2.imshow(\"face cropper\",image)\n",
    "    except:\n",
    "        cv2.putText(image,\"Face not found\",(250,450),cv2.FONT_HERSHEY_COMPLEX,1,(255,0,0),2)\n",
    "        cv2.imshow(\"face cropper\",image)\n",
    "        pass\n",
    "    if cv2.waitKey(1) & 0XFF==ord(\"q\"): #Enter q to  to close imshow() windows\n",
    "        break      #When I use cv2.waitKey(1), I get a continuous live video feed from my laptops webcam.\n",
    "\n",
    "cap.release()\n",
    "cv2.destroyAllWindows()"
   ]
  },
  {
   "cell_type": "code",
   "execution_count": null,
   "id": "e9ad8a0a",
   "metadata": {},
   "outputs": [],
   "source": []
  }
 ],
 "metadata": {
  "kernelspec": {
   "display_name": "Python 3 (ipykernel)",
   "language": "python",
   "name": "python3"
  },
  "language_info": {
   "codemirror_mode": {
    "name": "ipython",
    "version": 3
   },
   "file_extension": ".py",
   "mimetype": "text/x-python",
   "name": "python",
   "nbconvert_exporter": "python",
   "pygments_lexer": "ipython3",
   "version": "3.8.10"
  }
 },
 "nbformat": 4,
 "nbformat_minor": 5
}

{
 "cells": [
  {
   "cell_type": "code",
   "execution_count": 1,
   "id": "a2b14d73",
   "metadata": {},
   "outputs": [],
   "source": [
    "import os\n",
    "import cv2\n",
    "import face_recognition\n",
    "import face_recognition as fr\n",
    "import numpy as np"
   ]
  },
  {
   "cell_type": "code",
   "execution_count": null,
   "id": "1670233e",
   "metadata": {},
   "outputs": [],
   "source": [
    "cam = cv2.VideoCapture(0)\n",
    "img_couter = 0\n",
    "\n",
    "path = './faces'\n",
    "while True:\n",
    "    ret, frame = cam.read()\n",
    "    if not ret:\n",
    "        print(\"Failed to grab frame\")\n",
    "        break\n",
    "    cv2.imshow(\"test\", frame)\n",
    "    k = cv2.waitKey(1)\n",
    "    if k % 256 == 27:\n",
    "        print(\"Escape Hit, closing the application\")\n",
    "        break\n",
    "    elif k%256 == 32:\n",
    "        img_name = input(\"Enter the name of the image: \")\n",
    "        cv2.imwrite(os.path.join(path , '{}.jpg'.format(img_name)),frame)\n",
    "        print(\"Image Captured\")\n",
    "        img_couter += 1\n",
    "cam.release()\n",
    "cv2.destroyAllWindows()"
   ]
  },
  {
   "cell_type": "code",
   "execution_count": 2,
   "id": "5f422182",
   "metadata": {},
   "outputs": [],
   "source": [
    "# encoding all the faces using get_encoded_faces () function\n",
    "def get_encoded_faces():\n",
    "    encoded = {}\n",
    "    for dirpath, dnames, fnames in os.walk(\"./faces\"):\n",
    "        for f in fnames:\n",
    "            if f.endswith(\".jpg\") or f.endswith(\".png\"):\n",
    "                face = fr.load_image_file(\"faces/\" + f)\n",
    "                encoding = fr.face_encodings(face)[0]\n",
    "                encoded[f.split(\".\")[0]] = encoding\n",
    "    return encoded"
   ]
  },
  {
   "cell_type": "code",
   "execution_count": 3,
   "id": "6ed341ab",
   "metadata": {},
   "outputs": [],
   "source": [
    "# encode a face given the file name\n",
    "def unknown_image_encoded(img):\n",
    "    face = fr.load_image_file(\"faces/\" + img)\n",
    "    encoding = fr.face_encodings(face)[0]\n",
    "    return encoding"
   ]
  },
  {
   "cell_type": "code",
   "execution_count": 4,
   "id": "dcb23e6f",
   "metadata": {},
   "outputs": [],
   "source": [
    "# finding all the faces images and label that images\n",
    "def classify_face(im):\n",
    "    faces = get_encoded_faces()\n",
    "    faces_encoded = list(faces.values())\n",
    "    known_face_names = list(faces.keys())\n",
    "    img = cv2.imread(im, 1)\n",
    "    face_locations = face_recognition.face_locations(img)\n",
    "    unknown_face_encodings = face_recognition.face_encodings(img, face_locations)\n",
    "\n",
    "    face_names = []\n",
    "    for face_encoding in unknown_face_encodings:\n",
    "        # See if the face is a match for the known face(s)\n",
    "        matches = face_recognition.compare_faces(faces_encoded, face_encoding)\n",
    "        name = \"Unknown\"\n",
    "        # use the known face with the smallest distance to the new face\n",
    "        face_distances = face_recognition.face_distance(faces_encoded, face_encoding)\n",
    "        best_match_index = np.argmin(face_distances)\n",
    "        if matches[best_match_index]:\n",
    "            name = known_face_names[best_match_index]\n",
    "        face_names.append(name)\n",
    "        for (top, right, bottom, left), name in zip(face_locations, face_names):\n",
    "            # Draw a box around the face\n",
    "            cv2.rectangle(img, (left - 20, top - 20), (right + 20, bottom + 20), (255, 0, 0), 2)\n",
    "            # Draw a label with a name below the face\n",
    "            cv2.rectangle(img, (left - 20, bottom - 15), (right + 20, bottom + 20), (255, 0, 0), cv2.FILLED)\n",
    "            font = cv2.FONT_HERSHEY_DUPLEX\n",
    "            cv2.putText(img, name, (left - 20, bottom + 15), font, 1.0, (255, 255, 255), 2)\n",
    "    # Display the resulting image\n",
    "    while True:\n",
    "        cv2.imshow('Face Detection', img)\n",
    "        if cv2.waitKey(1) & 0xFF == ord('q'):\n",
    "            return face_names"
   ]
  },
  {
   "cell_type": "code",
   "execution_count": 5,
   "id": "83bde287",
   "metadata": {},
   "outputs": [
    {
     "name": "stdout",
     "output_type": "stream",
     "text": [
      "['dai', 'bahini']\n"
     ]
    }
   ],
   "source": [
    "print(classify_face(\"./daju_bahini.jpg\"))"
   ]
  },
  {
   "cell_type": "code",
   "execution_count": null,
   "id": "fef2bd7a",
   "metadata": {},
   "outputs": [],
   "source": []
  }
 ],
 "metadata": {
  "kernelspec": {
   "display_name": "Python 3 (ipykernel)",
   "language": "python",
   "name": "python3"
  },
  "language_info": {
   "codemirror_mode": {
    "name": "ipython",
    "version": 3
   },
   "file_extension": ".py",
   "mimetype": "text/x-python",
   "name": "python",
   "nbconvert_exporter": "python",
   "pygments_lexer": "ipython3",
   "version": "3.8.10"
  }
 },
 "nbformat": 4,
 "nbformat_minor": 5
}
